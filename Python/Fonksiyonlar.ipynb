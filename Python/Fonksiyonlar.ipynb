{
 "cells": [
  {
   "cell_type": "markdown",
   "metadata": {},
   "source": [
    "fonksiyonun tanımlanması"
   ]
  },
  {
   "cell_type": "code",
   "execution_count": 1,
   "metadata": {
    "collapsed": true
   },
   "outputs": [],
   "source": [
    "def ilkFonksiyon():\n",
    "    print(\"İlk fonksiyon denemesi\")"
   ]
  },
  {
   "cell_type": "markdown",
   "metadata": {},
   "source": [
    "fonksiyonun çağrılması"
   ]
  },
  {
   "cell_type": "code",
   "execution_count": 2,
   "metadata": {},
   "outputs": [
    {
     "name": "stdout",
     "output_type": "stream",
     "text": [
      "İlk fonksiyon denemesi\n"
     ]
    }
   ],
   "source": [
    "ilkFonksiyon()"
   ]
  },
  {
   "cell_type": "code",
   "execution_count": 7,
   "metadata": {},
   "outputs": [],
   "source": [
    "def toplam(sayi1,sayi2):\n",
    "    return sayi1+sayi2\n",
    "\n",
    "\n",
    "def cikarma(sayi1,sayi2):\n",
    "    if(sayi1>sayi2):\n",
    "        return sayi1-sayi2\n",
    "    else:\n",
    "        return sayi2-sayi1\n",
    "\n",
    "    \n",
    "def carpma(sayi1,sayi2):\n",
    "    if(sayi1==0 | sayi2==0):\n",
    "        print(\"0 ile çarpım yapılamaz.\")\n",
    "    else:\n",
    "        return sayi1*sayi2\n",
    "    \n",
    "\n",
    "def bolme(sayi1,sayi2):\n",
    "    return sayi1/sayi2"
   ]
  },
  {
   "cell_type": "code",
   "execution_count": 9,
   "metadata": {},
   "outputs": [
    {
     "name": "stdout",
     "output_type": "stream",
     "text": [
      "Toplam fonksiyonu  :  20  +  5  =  25\n",
      "Çıkarma fonksiyonu :  20  -  5  =  15\n",
      "Çarpma fonksiyonu  :  20  *  5  =  100\n",
      "Bölme fonksiyonu   :  20  /  5  =  4.0\n"
     ]
    }
   ],
   "source": [
    "sayi1 = 20\n",
    "sayi2 = 5\n",
    "print(\"Toplam fonksiyonu  : \",sayi1 ,\" + \",sayi2,\" = \",toplam(sayi1,sayi2))\n",
    "print(\"Çıkarma fonksiyonu : \",sayi1 ,\" - \",sayi2,\" = \",cikarma(sayi1,sayi2))\n",
    "print(\"Çarpma fonksiyonu  : \",sayi1 ,\" * \",sayi2,\" = \",carpma(sayi1,sayi2))\n",
    "print(\"Bölme fonksiyonu   : \",sayi1 ,\" / \",sayi2,\" = \",bolme(sayi1,sayi2))"
   ]
  },
  {
   "cell_type": "markdown",
   "metadata": {},
   "source": [
    "Mükemmel sayı nedir ? Mükemmel sayılar bölenlerinin toplamı,bölünene eşit olan sayıya denir. Yani 6 için bakarsak; 2,3,1 bölenlerine sahiptir ve 2 + 3 + 1 toplamı 6 eder. Bu yüzden 6 mükemmel bir sayıdır."
   ]
  },
  {
   "cell_type": "code",
   "execution_count": 14,
   "metadata": {
    "collapsed": true
   },
   "outputs": [],
   "source": [
    "def mukemmelSayi(sayi):\n",
    "    i = 1\n",
    "    toplam = 0 \n",
    "    while i < sayi:\n",
    "        if(sayi % i == 0):\n",
    "            toplam = toplam + i\n",
    "        i += 1\n",
    "    if(toplam==sayi):\n",
    "        print(sayi,\"mükemmel sayıdır.\")\n",
    "    else:\n",
    "        print(sayi,\"mükemmel sayıdır.\")"
   ]
  },
  {
   "cell_type": "code",
   "execution_count": 15,
   "metadata": {},
   "outputs": [
    {
     "name": "stdout",
     "output_type": "stream",
     "text": [
      "6 mükemmel sayıdır.\n"
     ]
    }
   ],
   "source": [
    "mukemmelSayi(6)"
   ]
  },
  {
   "cell_type": "code",
   "execution_count": 23,
   "metadata": {
    "collapsed": true
   },
   "outputs": [],
   "source": [
    "def faktoriyelHesaplama(sayi):\n",
    "    if (sayi > 0):\n",
    "        return sayi * faktoriyelHesaplama(sayi - 1)\n",
    "    else:\n",
    "        return 1"
   ]
  },
  {
   "cell_type": "code",
   "execution_count": 24,
   "metadata": {},
   "outputs": [
    {
     "data": {
      "text/plain": [
       "24"
      ]
     },
     "execution_count": 24,
     "metadata": {},
     "output_type": "execute_result"
    }
   ],
   "source": [
    "faktoriyelHesaplama(4)"
   ]
  },
  {
   "cell_type": "markdown",
   "metadata": {},
   "source": [
    "parametre olarak liste verilebilir."
   ]
  },
  {
   "cell_type": "code",
   "execution_count": 65,
   "metadata": {
    "collapsed": true
   },
   "outputs": [],
   "source": [
    "def toplam(liste):\n",
    "    toplam = 0\n",
    "    for i in liste:\n",
    "        toplam += i\n",
    "    print(\"Sonuç = \",toplam)"
   ]
  },
  {
   "cell_type": "code",
   "execution_count": 66,
   "metadata": {},
   "outputs": [
    {
     "name": "stdout",
     "output_type": "stream",
     "text": [
      "Sonuç =  33\n"
     ]
    }
   ],
   "source": [
    "liste = [1,2,3,4,5,8,10]\n",
    "toplam(liste)"
   ]
  },
  {
   "cell_type": "code",
   "execution_count": 72,
   "metadata": {
    "collapsed": true
   },
   "outputs": [],
   "source": [
    "def kesisim(kume1, kume2):\n",
    "    ortakElemanlar = []\n",
    "    for x in kume1:\n",
    "        if x in kume2:\n",
    "            ortakElemanlar.append(x)\n",
    "    return ortakElemanlar"
   ]
  },
  {
   "cell_type": "code",
   "execution_count": 75,
   "metadata": {},
   "outputs": [
    {
     "name": "stdout",
     "output_type": "stream",
     "text": [
      "Ortak Elemanlar :  [7, 8, 9]\n"
     ]
    }
   ],
   "source": [
    "kume1 = range(1,10)\n",
    "kume2 = range(7,15)\n",
    "x = kesisim(kume1, kume2)\n",
    "print(\"Ortak Elemanlar : \",x)"
   ]
  }
 ],
 "metadata": {
  "kernelspec": {
   "display_name": "Python 3",
   "language": "python",
   "name": "python3"
  },
  "language_info": {
   "codemirror_mode": {
    "name": "ipython",
    "version": 3
   },
   "file_extension": ".py",
   "mimetype": "text/x-python",
   "name": "python",
   "nbconvert_exporter": "python",
   "pygments_lexer": "ipython3",
   "version": "3.6.1"
  }
 },
 "nbformat": 4,
 "nbformat_minor": 2
}
