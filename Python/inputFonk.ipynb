{
 "cells": [
  {
   "cell_type": "code",
   "execution_count": 1,
   "metadata": {},
   "outputs": [
    {
     "name": "stdout",
     "output_type": "stream",
     "text": [
      "Adınız : Tuğba\n"
     ]
    }
   ],
   "source": [
    "isim = input(\"Adınız : \")"
   ]
  },
  {
   "cell_type": "code",
   "execution_count": 2,
   "metadata": {},
   "outputs": [
    {
     "name": "stdout",
     "output_type": "stream",
     "text": [
      "Yaşınız : 23\n"
     ]
    }
   ],
   "source": [
    "yas = input(\"Yaşınız : \")"
   ]
  },
  {
   "cell_type": "code",
   "execution_count": 3,
   "metadata": {},
   "outputs": [
    {
     "name": "stdout",
     "output_type": "stream",
     "text": [
      "Bölümünüz : Bilgisayar Mühendisliği\n"
     ]
    }
   ],
   "source": [
    "bolum = input(\"Bölümünüz : \")"
   ]
  },
  {
   "cell_type": "code",
   "execution_count": 4,
   "metadata": {},
   "outputs": [
    {
     "name": "stdout",
     "output_type": "stream",
     "text": [
      "Adı :  Tuğba \n",
      " Yaşı :  23 \n",
      " Bölüm :  Bilgisayar Mühendisliği \n",
      "\n"
     ]
    }
   ],
   "source": [
    "print(\"Adı : \" ,isim, \"\\n\",\"Yaşı : \",yas,\"\\n\",\"Bölüm : \" ,bolum,\"\\n\")"
   ]
  }
 ],
 "metadata": {
  "kernelspec": {
   "display_name": "Python 3",
   "language": "python",
   "name": "python3"
  },
  "language_info": {
   "codemirror_mode": {
    "name": "ipython",
    "version": 3
   },
   "file_extension": ".py",
   "mimetype": "text/x-python",
   "name": "python",
   "nbconvert_exporter": "python",
   "pygments_lexer": "ipython3",
   "version": "3.6.1"
  }
 },
 "nbformat": 4,
 "nbformat_minor": 2
}
