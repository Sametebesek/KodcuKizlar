{
 "cells": [
  {
   "cell_type": "markdown",
   "metadata": {},
   "source": [
    "Bir kelime ya da kelime grubunun konuşma ifadesi gibi gözükmesini istiyorsak;"
   ]
  },
  {
   "cell_type": "markdown",
   "metadata": {},
   "source": [
    "1) Tek tırnak arasına, çift tırnak konularak --> ' \" Evet \" '"
   ]
  },
  {
   "cell_type": "code",
   "execution_count": 1,
   "metadata": {},
   "outputs": [
    {
     "name": "stdout",
     "output_type": "stream",
     "text": [
      "\"Yes,\" he said.\n"
     ]
    }
   ],
   "source": [
    "print('\"Yes,\" he said.')"
   ]
  },
  {
   "cell_type": "markdown",
   "metadata": {},
   "source": [
    "2) Çift tırnak arasına,çift tırnak ve \\ işareti konularak --> \" \\ \" Evet \\ \" \""
   ]
  },
  {
   "cell_type": "code",
   "execution_count": 2,
   "metadata": {},
   "outputs": [
    {
     "name": "stdout",
     "output_type": "stream",
     "text": [
      "\"Yes,\" he said.\n"
     ]
    }
   ],
   "source": [
    "print(\"\\\"Yes,\\\" he said.\")"
   ]
  },
  {
   "cell_type": "markdown",
   "metadata": {},
   "source": [
    "Kelimede iyelik eklerini ayırmak istiyorsak;"
   ]
  },
  {
   "cell_type": "markdown",
   "metadata": {},
   "source": [
    "Tek tırnak arasına, çift tırnak konulur ve ayrılması istenen iyelik ekinin önüne \\ işareti konulur. --> ' \"İstanbul\\'un\" '"
   ]
  },
  {
   "cell_type": "code",
   "execution_count": 3,
   "metadata": {},
   "outputs": [
    {
     "name": "stdout",
     "output_type": "stream",
     "text": [
      "\"Isn't,\" she said.\n"
     ]
    }
   ],
   "source": [
    "print('\"Isn\\'t,\" she said.')"
   ]
  },
  {
   "cell_type": "markdown",
   "metadata": {},
   "source": [
    "Kelime ya da kelime grubunu bir alt satırda görmek istiyorsak; \\n"
   ]
  },
  {
   "cell_type": "code",
   "execution_count": 4,
   "metadata": {},
   "outputs": [
    {
     "data": {
      "text/plain": [
       "'1) String \\n2) Int '"
      ]
     },
     "execution_count": 4,
     "metadata": {},
     "output_type": "execute_result"
    }
   ],
   "source": [
    "s = '1) String \\n2) Int ' \n",
    "s"
   ]
  },
  {
   "cell_type": "markdown",
   "metadata": {},
   "source": [
    "yazdırılırken eğer print() kullanılmazsa \\n bir alt satıra geçmez."
   ]
  },
  {
   "cell_type": "code",
   "execution_count": 5,
   "metadata": {},
   "outputs": [
    {
     "name": "stdout",
     "output_type": "stream",
     "text": [
      "1) String \n",
      "2) Int \n"
     ]
    }
   ],
   "source": [
    "s = '1) String \\n2) Int ' \n",
    "print(s)"
   ]
  },
  {
   "cell_type": "markdown",
   "metadata": {},
   "source": [
    "Dosya yolu belirtirken bir alt satıra geçmemesi için yazılan metin öncesinde 'r' kullanılmalıdır."
   ]
  },
  {
   "cell_type": "code",
   "execution_count": 6,
   "metadata": {},
   "outputs": [
    {
     "name": "stdout",
     "output_type": "stream",
     "text": [
      "C:\belgeler\n",
      "ull\n"
     ]
    }
   ],
   "source": [
    "print('C:\\belgeler\\null') #alt satıra geçer."
   ]
  },
  {
   "cell_type": "code",
   "execution_count": 7,
   "metadata": {},
   "outputs": [
    {
     "name": "stdout",
     "output_type": "stream",
     "text": [
      "C:\\belgeler\\null\n"
     ]
    }
   ],
   "source": [
    "print(r'C:\\belgeler\\null')  # metin öncesinde r kullanıldığı için alt satıra geçmez."
   ]
  },
  {
   "cell_type": "markdown",
   "metadata": {},
   "source": [
    "'+' operatörü birleştirmek için kullanılır."
   ]
  },
  {
   "cell_type": "code",
   "execution_count": 8,
   "metadata": {},
   "outputs": [
    {
     "name": "stdout",
     "output_type": "stream",
     "text": [
      "PythonProgramlama Dili\n"
     ]
    }
   ],
   "source": [
    "birinci = \"Python\"\n",
    "ikinci = \"Programlama Dili\"\n",
    "\n",
    "sonuc = birinci + ikinci\n",
    "\n",
    "print(sonuc)"
   ]
  },
  {
   "cell_type": "markdown",
   "metadata": {},
   "source": [
    "'*' operatörü tekrar işlemini sağlar."
   ]
  },
  {
   "cell_type": "code",
   "execution_count": 9,
   "metadata": {},
   "outputs": [
    {
     "data": {
      "text/plain": [
       "'pypypython'"
      ]
     },
     "execution_count": 9,
     "metadata": {},
     "output_type": "execute_result"
    }
   ],
   "source": [
    "3 * 'py' + 'thon'"
   ]
  },
  {
   "cell_type": "markdown",
   "metadata": {},
   "source": [
    "Tür dönüşümleri yaparken, dönüşüm yapılan türe uygun olmalı !"
   ]
  },
  {
   "cell_type": "code",
   "execution_count": 10,
   "metadata": {},
   "outputs": [
    {
     "name": "stdout",
     "output_type": "stream",
     "text": [
      "<class 'str'>\n"
     ]
    }
   ],
   "source": [
    "a= 5\n",
    "a= str(a)\n",
    "print(type(a))"
   ]
  },
  {
   "cell_type": "code",
   "execution_count": 11,
   "metadata": {},
   "outputs": [
    {
     "name": "stdout",
     "output_type": "stream",
     "text": [
      "<class 'int'>\n"
     ]
    }
   ],
   "source": [
    "b= int(3.5)\n",
    "print(type(b))"
   ]
  },
  {
   "cell_type": "code",
   "execution_count": 12,
   "metadata": {},
   "outputs": [
    {
     "ename": "ValueError",
     "evalue": "could not convert string to float: '12!!345.0'",
     "output_type": "error",
     "traceback": [
      "\u001b[1;31m---------------------------------------------------------------------------\u001b[0m",
      "\u001b[1;31mValueError\u001b[0m                                Traceback (most recent call last)",
      "\u001b[1;32m<ipython-input-12-8dddff8b3b00>\u001b[0m in \u001b[0;36m<module>\u001b[1;34m()\u001b[0m\n\u001b[1;32m----> 1\u001b[1;33m \u001b[0mno\u001b[0m\u001b[1;33m=\u001b[0m \u001b[0mfloat\u001b[0m\u001b[1;33m(\u001b[0m\u001b[1;34m'12!!345.0'\u001b[0m\u001b[1;33m)\u001b[0m \u001b[1;31m# float tipinde ünlem işareti (!) kullanılamaz.\u001b[0m\u001b[1;33m\u001b[0m\u001b[0m\n\u001b[0m\u001b[0;32m      2\u001b[0m \u001b[0mprint\u001b[0m\u001b[1;33m(\u001b[0m\u001b[0mtype\u001b[0m\u001b[1;33m(\u001b[0m\u001b[0mno\u001b[0m\u001b[1;33m)\u001b[0m\u001b[1;33m)\u001b[0m\u001b[1;33m\u001b[0m\u001b[0m\n\u001b[0;32m      3\u001b[0m \u001b[0mprint\u001b[0m\u001b[1;33m(\u001b[0m\u001b[0mno\u001b[0m \u001b[1;33m+\u001b[0m \u001b[1;36m1\u001b[0m\u001b[1;33m)\u001b[0m\u001b[1;33m\u001b[0m\u001b[0m\n",
      "\u001b[1;31mValueError\u001b[0m: could not convert string to float: '12!!345.0'"
     ]
    }
   ],
   "source": [
    "no= float('12!!345.0') # float tipinde ünlem işareti (!) kullanılamaz.\n",
    "print(type(no))\n",
    "print(no + 1)"
   ]
  },
  {
   "cell_type": "code",
   "execution_count": 13,
   "metadata": {},
   "outputs": [
    {
     "name": "stdout",
     "output_type": "stream",
     "text": [
      "5işlem daha var.!\n"
     ]
    }
   ],
   "source": [
    "print(str(a)+ 'işlem daha var.!') # üst tarafta int olarak belirlediğimiz 5 sayısını tür dönüşümü ile stringe çevirip \n",
    "                                  # + operatörü ile birleşme sağladık."
   ]
  },
  {
   "cell_type": "markdown",
   "metadata": {},
   "source": [
    "### String indexleme"
   ]
  },
  {
   "cell_type": "markdown",
   "metadata": {},
   "source": [
    "Stringler dizi gibi bir çalışma mekanizmasına sahiptir. İstenilen karaktere kolayca ulaşılabilir.\n",
    "En baştan başlarken ilk karakter 0 indisindedir.\n",
    "En sondan başlarken ilk karakter -6 indisindedir."
   ]
  },
  {
   "cell_type": "code",
   "execution_count": 14,
   "metadata": {},
   "outputs": [
    {
     "name": "stdout",
     "output_type": "stream",
     "text": [
      "P\n",
      "y\n",
      "t\n",
      "h\n",
      "o\n",
      "n\n"
     ]
    }
   ],
   "source": [
    "kelime = \"Python\"\n",
    "print(kelime[0])\n",
    "print(kelime[1])\n",
    "print(kelime[2])\n",
    "print(kelime[3])\n",
    "print(kelime[4])\n",
    "print(kelime[5])"
   ]
  },
  {
   "cell_type": "code",
   "execution_count": 15,
   "metadata": {},
   "outputs": [
    {
     "name": "stdout",
     "output_type": "stream",
     "text": [
      "n\n",
      "o\n",
      "h\n",
      "t\n",
      "y\n",
      "P\n"
     ]
    }
   ],
   "source": [
    "print(kelime[-1]) \n",
    "print(kelime[-2])\n",
    "print(kelime[-3])\n",
    "print(kelime[-4])\n",
    "print(kelime[-5])\n",
    "print(kelime[-6])"
   ]
  },
  {
   "cell_type": "markdown",
   "metadata": {},
   "source": [
    "istenirse yazılan metnin içerisinden indisler yardımıyla bir bölüm alınabilir."
   ]
  },
  {
   "cell_type": "code",
   "execution_count": 16,
   "metadata": {},
   "outputs": [
    {
     "name": "stdout",
     "output_type": "stream",
     "text": [
      "Py\n"
     ]
    }
   ],
   "source": [
    "print(kelime[0:2]) #kelimenin 0.indisi dahil fakat 2.indisi dahil olmayan karakterlerini yazdır."
   ]
  },
  {
   "cell_type": "code",
   "execution_count": 17,
   "metadata": {},
   "outputs": [
    {
     "name": "stdout",
     "output_type": "stream",
     "text": [
      "Pyth\n"
     ]
    }
   ],
   "source": [
    "print(kelime[:-2]) #kelimenin en başından, -2 indisine kadar olan karakterleri yazdır."
   ]
  },
  {
   "cell_type": "code",
   "execution_count": 18,
   "metadata": {},
   "outputs": [
    {
     "data": {
      "text/plain": [
       "'Athon'"
      ]
     },
     "execution_count": 18,
     "metadata": {},
     "output_type": "execute_result"
    }
   ],
   "source": [
    "yeniKelime = 'A' + kelime[2:] #istediğimiz karakterler birleştirirken kullanılır.\n",
    "yeniKelime "
   ]
  },
  {
   "cell_type": "markdown",
   "metadata": {},
   "source": [
    "len() fonksiyonu metnin uzunluğunun bulunmasını sağlar."
   ]
  },
  {
   "cell_type": "code",
   "execution_count": 19,
   "metadata": {},
   "outputs": [
    {
     "data": {
      "text/plain": [
       "5"
      ]
     },
     "execution_count": 19,
     "metadata": {},
     "output_type": "execute_result"
    }
   ],
   "source": [
    "len(yeniKelime)"
   ]
  }
 ],
 "metadata": {
  "kernelspec": {
   "display_name": "Python 3",
   "language": "python",
   "name": "python3"
  },
  "language_info": {
   "codemirror_mode": {
    "name": "ipython",
    "version": 3
   },
   "file_extension": ".py",
   "mimetype": "text/x-python",
   "name": "python",
   "nbconvert_exporter": "python",
   "pygments_lexer": "ipython3",
   "version": "3.6.2"
  }
 },
 "nbformat": 4,
 "nbformat_minor": 2
}
