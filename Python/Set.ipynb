{
 "cells": [
  {
   "cell_type": "code",
   "execution_count": 1,
   "metadata": {
    "collapsed": true
   },
   "outputs": [],
   "source": [
    "bosKume1 = set()"
   ]
  },
  {
   "cell_type": "code",
   "execution_count": 2,
   "metadata": {
    "collapsed": false
   },
   "outputs": [
    {
     "data": {
      "text/plain": [
       "set"
      ]
     },
     "execution_count": 2,
     "metadata": {},
     "output_type": "execute_result"
    }
   ],
   "source": [
    "type(bosKume1)"
   ]
  },
  {
   "cell_type": "code",
   "execution_count": 3,
   "metadata": {
    "collapsed": true
   },
   "outputs": [],
   "source": [
    "bosKume2 = {} #dict oluşur."
   ]
  },
  {
   "cell_type": "code",
   "execution_count": 4,
   "metadata": {
    "collapsed": false
   },
   "outputs": [
    {
     "data": {
      "text/plain": [
       "dict"
      ]
     },
     "execution_count": 4,
     "metadata": {},
     "output_type": "execute_result"
    }
   ],
   "source": [
    "type(bosKume2)"
   ]
  },
  {
   "cell_type": "code",
   "execution_count": 5,
   "metadata": {
    "collapsed": true
   },
   "outputs": [],
   "source": [
    "kume = {'tuğba', 'ay', 'bilgisayar', 'mühendisliği', 'fsmvu'}"
   ]
  },
  {
   "cell_type": "code",
   "execution_count": 6,
   "metadata": {
    "collapsed": false
   },
   "outputs": [
    {
     "data": {
      "text/plain": [
       "set"
      ]
     },
     "execution_count": 6,
     "metadata": {},
     "output_type": "execute_result"
    }
   ],
   "source": [
    "type(kume)"
   ]
  },
  {
   "cell_type": "markdown",
   "metadata": {},
   "source": [
    "istediğimiz türe ait fonksiyonların neler olduğunu öğrenmek için \"dir()\" fonksiyonunu kullanırız."
   ]
  },
  {
   "cell_type": "code",
   "execution_count": 7,
   "metadata": {
    "collapsed": false
   },
   "outputs": [
    {
     "data": {
      "text/plain": [
       "['__and__',\n",
       " '__class__',\n",
       " '__contains__',\n",
       " '__delattr__',\n",
       " '__dir__',\n",
       " '__doc__',\n",
       " '__eq__',\n",
       " '__format__',\n",
       " '__ge__',\n",
       " '__getattribute__',\n",
       " '__gt__',\n",
       " '__hash__',\n",
       " '__iand__',\n",
       " '__init__',\n",
       " '__init_subclass__',\n",
       " '__ior__',\n",
       " '__isub__',\n",
       " '__iter__',\n",
       " '__ixor__',\n",
       " '__le__',\n",
       " '__len__',\n",
       " '__lt__',\n",
       " '__ne__',\n",
       " '__new__',\n",
       " '__or__',\n",
       " '__rand__',\n",
       " '__reduce__',\n",
       " '__reduce_ex__',\n",
       " '__repr__',\n",
       " '__ror__',\n",
       " '__rsub__',\n",
       " '__rxor__',\n",
       " '__setattr__',\n",
       " '__sizeof__',\n",
       " '__str__',\n",
       " '__sub__',\n",
       " '__subclasshook__',\n",
       " '__xor__',\n",
       " 'add',\n",
       " 'clear',\n",
       " 'copy',\n",
       " 'difference',\n",
       " 'difference_update',\n",
       " 'discard',\n",
       " 'intersection',\n",
       " 'intersection_update',\n",
       " 'isdisjoint',\n",
       " 'issubset',\n",
       " 'issuperset',\n",
       " 'pop',\n",
       " 'remove',\n",
       " 'symmetric_difference',\n",
       " 'symmetric_difference_update',\n",
       " 'union',\n",
       " 'update']"
      ]
     },
     "execution_count": 7,
     "metadata": {},
     "output_type": "execute_result"
    }
   ],
   "source": [
    "dir(set)"
   ]
  },
  {
   "cell_type": "code",
   "execution_count": 8,
   "metadata": {
    "collapsed": false
   },
   "outputs": [
    {
     "data": {
      "text/plain": [
       "{' ', 'c', 'd', 'e', 'i', 'l', 'm', 'n', 's', 'ü'}"
      ]
     },
     "execution_count": 8,
     "metadata": {},
     "output_type": "execute_result"
    }
   ],
   "source": [
    "yeniBirOzellik = \"deneme cümlesi\"\n",
    "set(yeniBirOzellik)"
   ]
  },
  {
   "cell_type": "code",
   "execution_count": 9,
   "metadata": {
    "collapsed": false
   },
   "outputs": [
    {
     "name": "stdout",
     "output_type": "stream",
     "text": [
      "i listede 1 kez geciyor.\n",
      "c listede 1 kez geciyor.\n",
      "l listede 1 kez geciyor.\n",
      "ü listede 1 kez geciyor.\n",
      "  listede 1 kez geciyor.\n",
      "e listede 4 kez geciyor.\n",
      "n listede 1 kez geciyor.\n",
      "s listede 1 kez geciyor.\n",
      "m listede 2 kez geciyor.\n",
      "d listede 1 kez geciyor.\n"
     ]
    }
   ],
   "source": [
    "for i in set(yeniBirOzellik):\n",
    "    print(\"%s listede %s kez geciyor.\" %(i,yeniBirOzellik.count(i)))"
   ]
  },
  {
   "cell_type": "code",
   "execution_count": 10,
   "metadata": {
    "collapsed": false
   },
   "outputs": [],
   "source": [
    "a = {1,2,3,4,5,6,7}\n",
    "b = {10,20,30,15,8,6,5}"
   ]
  },
  {
   "cell_type": "code",
   "execution_count": 11,
   "metadata": {
    "collapsed": false
   },
   "outputs": [
    {
     "name": "stdout",
     "output_type": "stream",
     "text": [
      "a kümesindeki max. eleman :  7 \n",
      "a kümesindeki min. eleman :  1\n",
      "\n",
      "\n",
      "b kümesindeki max. eleman :  30 \n",
      "b kümesindeki min. eleman :  5\n",
      "\n",
      "\n",
      "a kümesinin elemanları toplamı :  28\n",
      "b kümesinin elemanları toplamı :  94\n"
     ]
    }
   ],
   "source": [
    "print('a kümesindeki max. eleman : ',max(a),\"\\na kümesindeki min. eleman : \", min(a))\n",
    "print(\"\\n\")\n",
    "print('b kümesindeki max. eleman : ', max(b),\"\\nb kümesindeki min. eleman : \", min(b))\n",
    "print(\"\\n\")\n",
    "print(\"a kümesinin elemanları toplamı : \" ,sum(a))\n",
    "print(\"b kümesinin elemanları toplamı : \" ,sum(b))"
   ]
  },
  {
   "cell_type": "code",
   "execution_count": 12,
   "metadata": {
    "collapsed": false
   },
   "outputs": [
    {
     "name": "stdout",
     "output_type": "stream",
     "text": [
      "a: {1, 2, 3, 4, 5, 6, 7}\n",
      "\n",
      "\n",
      "b: {5, 6, 8, 10, 15, 20, 30}\n"
     ]
    }
   ],
   "source": [
    "print('a:', a)\n",
    "print(\"\\n\")\n",
    "print('b:', b)"
   ]
  },
  {
   "cell_type": "code",
   "execution_count": 13,
   "metadata": {
    "collapsed": false
   },
   "outputs": [
    {
     "name": "stdout",
     "output_type": "stream",
     "text": [
      "a - b: {1, 2, 3, 4, 7}\n",
      "\n",
      "\n",
      "b - a: {8, 10, 15, 20, 30}\n",
      "\n",
      "\n"
     ]
    }
   ],
   "source": [
    "print('a - b:', a - b)  # a fark b\n",
    "print(\"\\n\")\n",
    "print('b - a:', b - a)  # a fark b\n",
    "print(\"\\n\")"
   ]
  },
  {
   "cell_type": "code",
   "execution_count": 14,
   "metadata": {
    "collapsed": false
   },
   "outputs": [
    {
     "name": "stdout",
     "output_type": "stream",
     "text": [
      "a | b: {1, 2, 3, 4, 5, 6, 7, 8, 10, 15, 20, 30}\n",
      "\n",
      "\n",
      "a & b: {5, 6}\n",
      "\n",
      "\n",
      "a ^ b: {1, 2, 3, 4, 7, 8, 10, 15, 20, 30}\n",
      "\n",
      "\n"
     ]
    }
   ],
   "source": [
    "print('a | b:', a | b)  # a birleşim b\n",
    "print(\"\\n\")\n",
    "print('a & b:', a & b)  # a kesişim b\n",
    "print(\"\\n\")\n",
    "print('a ^ b:', a ^ b)  # kesişim elemanları olmadan a birleşim b\n",
    "print(\"\\n\")"
   ]
  },
  {
   "cell_type": "code",
   "execution_count": 15,
   "metadata": {
    "collapsed": false
   },
   "outputs": [
    {
     "data": {
      "text/plain": [
       "False"
      ]
     },
     "execution_count": 15,
     "metadata": {},
     "output_type": "execute_result"
    }
   ],
   "source": [
    "a.issubset(b) #alt kümesi mi ?"
   ]
  },
  {
   "cell_type": "code",
   "execution_count": 16,
   "metadata": {
    "collapsed": false
   },
   "outputs": [
    {
     "name": "stdout",
     "output_type": "stream",
     "text": [
      "a: {'c', 'l', ' ', 'n', 'ç', 'r', 's', 'm', 'd'}\n"
     ]
    }
   ],
   "source": [
    "a = {x for x in ' deneme cümlesi içerisinde arama ' if x not in 'aeiü'}\n",
    "\n",
    "print('a:', a)"
   ]
  },
  {
   "cell_type": "code",
   "execution_count": 17,
   "metadata": {
    "collapsed": false
   },
   "outputs": [
    {
     "name": "stdout",
     "output_type": "stream",
     "text": [
      "a {'c', 'l', ' ', 'n', 'ç', 'r', 's', 'm', 'd'}\n"
     ]
    }
   ],
   "source": [
    "for item in set(\"deneme cümlesi içerisinde arama\"):\n",
    "    if(item != \"aeiü\"):\n",
    "        print('a',a)\n",
    "        break"
   ]
  },
  {
   "cell_type": "code",
   "execution_count": 18,
   "metadata": {
    "collapsed": false
   },
   "outputs": [
    {
     "data": {
      "text/plain": [
       "10"
      ]
     },
     "execution_count": 18,
     "metadata": {},
     "output_type": "execute_result"
    }
   ],
   "source": [
    "len(set(\"deneme cümlesi\"))"
   ]
  },
  {
   "cell_type": "code",
   "execution_count": 19,
   "metadata": {
    "collapsed": true
   },
   "outputs": [],
   "source": [
    "küme = {'a','b','c','d'}"
   ]
  },
  {
   "cell_type": "code",
   "execution_count": 20,
   "metadata": {
    "collapsed": false
   },
   "outputs": [
    {
     "name": "stdout",
     "output_type": "stream",
     "text": [
      "{'c', 'a', 'd'}\n"
     ]
    }
   ],
   "source": [
    "küme.pop()\n",
    "print(küme)"
   ]
  },
  {
   "cell_type": "code",
   "execution_count": 21,
   "metadata": {
    "collapsed": false
   },
   "outputs": [],
   "source": [
    "küme.remove('d')"
   ]
  },
  {
   "cell_type": "code",
   "execution_count": 22,
   "metadata": {
    "collapsed": false
   },
   "outputs": [
    {
     "name": "stdout",
     "output_type": "stream",
     "text": [
      "{'c', 'a'}\n"
     ]
    }
   ],
   "source": [
    "print(küme)"
   ]
  }
 ],
 "metadata": {
  "kernelspec": {
   "display_name": "Python 3",
   "language": "python",
   "name": "python3"
  },
  "language_info": {
   "codemirror_mode": {
    "name": "ipython",
    "version": 3
   },
   "file_extension": ".py",
   "mimetype": "text/x-python",
   "name": "python",
   "nbconvert_exporter": "python",
   "pygments_lexer": "ipython3",
   "version": "3.6.0"
  }
 },
 "nbformat": 4,
 "nbformat_minor": 2
}
