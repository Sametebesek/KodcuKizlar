{
 "cells": [
  {
   "cell_type": "code",
   "execution_count": 1,
   "metadata": {
    "collapsed": true
   },
   "outputs": [],
   "source": [
    "a = 10\n",
    "b = 5\n",
    "\n",
    "toplam = a + b\n",
    "cikar = a - b\n",
    "carp = a * b\n",
    "bol = a / b\n",
    "mod = a % b\n",
    "ondBol = a // b"
   ]
  },
  {
   "cell_type": "code",
   "execution_count": 2,
   "metadata": {},
   "outputs": [
    {
     "name": "stdout",
     "output_type": "stream",
     "text": [
      "a =  10  b =  5\n"
     ]
    }
   ],
   "source": [
    "print (\"a = \" , a, \" b = \", b)"
   ]
  },
  {
   "cell_type": "code",
   "execution_count": 3,
   "metadata": {},
   "outputs": [
    {
     "name": "stdout",
     "output_type": "stream",
     "text": [
      "Toplama İşlemi : \n",
      " 10  +  5  =  15\n",
      "Çıkarma İşlemi : \n",
      " 10  -  5  =  5\n",
      "Çarpma İşlemi : \n",
      " 10  *  5  =  50\n",
      "Bölme İşlemi : \n",
      " 10  /  5  =  2.0\n",
      "Mod İşlemi : \n",
      " 10  %  5  =  0\n",
      "Kalansız Bölme İşlemi : \n",
      " 10  //  5  =  2\n"
     ]
    }
   ],
   "source": [
    "print (\"Toplama İşlemi : \\n\",a , \" + \" , b , \" = \" , toplam)\n",
    "print (\"Çıkarma İşlemi : \\n\",a , \" - \" , b , \" = \" , cikar)\n",
    "print (\"Çarpma İşlemi : \\n\",a , \" * \" , b , \" = \" , carp)\n",
    "print (\"Bölme İşlemi : \\n\",a , \" / \" , b , \" = \" , bol)\n",
    "print (\"Mod İşlemi : \\n\",a, \" % \" , b , \" = \", mod)\n",
    "print (\"Kalansız Bölme İşlemi : \\n\",a , \" // \" , b , \" = \" , ondBol)"
   ]
  },
  {
   "cell_type": "code",
   "execution_count": 4,
   "metadata": {},
   "outputs": [
    {
     "name": "stdout",
     "output_type": "stream",
     "text": [
      "10  ve  5  sayısı birbirine eşit mi ? -->  False\n",
      "10  ve  5  sayısı birbirine eşit mi ? -->  True\n",
      "10 , 5 'den büyük bir sayı mı ? -->  True\n",
      "10 , 5 'den küçük bir sayı mı ? -->  False\n",
      "10 , 5 'den büyük veya eşit bir sayı mı ? -->  True\n",
      "10 , 5 'den küçük veya eşit bir sayı mı ? -->  False\n"
     ]
    }
   ],
   "source": [
    "print ( a, \" ve \" , b ,\" sayısı birbirine eşit mi ? --> \",a==b ) \n",
    "print ( a, \" ve \" , b ,\" sayısı birbirine eşit mi ? --> \",a!=b ) \n",
    "print ( a ,\",\", b ,\"'den büyük bir sayı mı ? --> \",a > b ) \n",
    "print ( a ,\",\", b ,\"'den küçük bir sayı mı ? --> \" , a < b ) \n",
    "print ( a ,\",\", b ,\"'den büyük veya eşit bir sayı mı ? --> \",a >= b ) \n",
    "print ( a ,\",\", b ,\"'den küçük veya eşit bir sayı mı ? --> \" ,a <= b ) "
   ]
  },
  {
   "cell_type": "markdown",
   "metadata": {
    "collapsed": true
   },
   "source": [
    "Atama operatörleri ile kullanım"
   ]
  },
  {
   "cell_type": "code",
   "execution_count": 5,
   "metadata": {},
   "outputs": [],
   "source": [
    "a+=3"
   ]
  },
  {
   "cell_type": "code",
   "execution_count": 6,
   "metadata": {},
   "outputs": [
    {
     "name": "stdout",
     "output_type": "stream",
     "text": [
      "a = a + 3 ya da a+=3 -->  13\n"
     ]
    }
   ],
   "source": [
    "print(\"a = a + 3 ya da a+=3 --> \",a)"
   ]
  },
  {
   "cell_type": "code",
   "execution_count": 7,
   "metadata": {
    "collapsed": true
   },
   "outputs": [],
   "source": [
    "b-=1"
   ]
  },
  {
   "cell_type": "code",
   "execution_count": 8,
   "metadata": {},
   "outputs": [
    {
     "name": "stdout",
     "output_type": "stream",
     "text": [
      "b = b - 1 ya da b-=1 -->  4\n"
     ]
    }
   ],
   "source": [
    "print(\"b = b - 1 ya da b-=1 --> \",b)"
   ]
  },
  {
   "cell_type": "code",
   "execution_count": 9,
   "metadata": {
    "collapsed": true
   },
   "outputs": [],
   "source": [
    "a*=2"
   ]
  },
  {
   "cell_type": "code",
   "execution_count": 10,
   "metadata": {},
   "outputs": [
    {
     "name": "stdout",
     "output_type": "stream",
     "text": [
      "a = a * 2 ya da a*=2 -->  26\n"
     ]
    }
   ],
   "source": [
    "print(\"a = a * 2 ya da a*=2 --> \",a)"
   ]
  },
  {
   "cell_type": "code",
   "execution_count": 11,
   "metadata": {
    "collapsed": true
   },
   "outputs": [],
   "source": [
    "b/=2"
   ]
  },
  {
   "cell_type": "code",
   "execution_count": 12,
   "metadata": {},
   "outputs": [
    {
     "name": "stdout",
     "output_type": "stream",
     "text": [
      "b = b / 2 ya da b/=2 -->  2.0\n"
     ]
    }
   ],
   "source": [
    "print(\"b = b / 2 ya da b/=2 --> \",b)"
   ]
  },
  {
   "cell_type": "code",
   "execution_count": 13,
   "metadata": {
    "collapsed": true
   },
   "outputs": [],
   "source": [
    "a%=2"
   ]
  },
  {
   "cell_type": "code",
   "execution_count": 14,
   "metadata": {},
   "outputs": [
    {
     "name": "stdout",
     "output_type": "stream",
     "text": [
      "a = a % 2 ya da a%=2 -->  0\n"
     ]
    }
   ],
   "source": [
    "print(\"a = a % 2 ya da a%=2 --> \",a)"
   ]
  },
  {
   "cell_type": "code",
   "execution_count": 15,
   "metadata": {
    "collapsed": true
   },
   "outputs": [],
   "source": [
    "b**=4"
   ]
  },
  {
   "cell_type": "code",
   "execution_count": 16,
   "metadata": {},
   "outputs": [
    {
     "name": "stdout",
     "output_type": "stream",
     "text": [
      "b = b ** 4 ya da b**=4 -->  16.0\n"
     ]
    }
   ],
   "source": [
    "print(\"b = b ** 4 ya da b**=4 --> \",b)"
   ]
  },
  {
   "cell_type": "code",
   "execution_count": 17,
   "metadata": {
    "collapsed": true
   },
   "outputs": [],
   "source": [
    "b//=2"
   ]
  },
  {
   "cell_type": "code",
   "execution_count": 18,
   "metadata": {},
   "outputs": [
    {
     "name": "stdout",
     "output_type": "stream",
     "text": [
      "b = b // 2 ya da b//=2 -->  8.0\n"
     ]
    }
   ],
   "source": [
    "print(\"b = b // 2 ya da b//=2 --> \",b)"
   ]
  },
  {
   "cell_type": "code",
   "execution_count": 19,
   "metadata": {
    "collapsed": true
   },
   "outputs": [],
   "source": [
    "op1 = 3 # 0011\n",
    "op2 = 5 # 0101"
   ]
  },
  {
   "cell_type": "code",
   "execution_count": 20,
   "metadata": {},
   "outputs": [
    {
     "name": "stdout",
     "output_type": "stream",
     "text": [
      "AND operatörü :  1\n"
     ]
    }
   ],
   "source": [
    "print(\"AND operatörü : \" , op1 & op2)"
   ]
  },
  {
   "cell_type": "code",
   "execution_count": 21,
   "metadata": {},
   "outputs": [
    {
     "name": "stdout",
     "output_type": "stream",
     "text": [
      "OR operatörü :  7\n"
     ]
    }
   ],
   "source": [
    "print(\"OR operatörü : \" , op1 | op2)"
   ]
  },
  {
   "cell_type": "code",
   "execution_count": 22,
   "metadata": {},
   "outputs": [
    {
     "name": "stdout",
     "output_type": "stream",
     "text": [
      "XOR operatörü :  6\n"
     ]
    }
   ],
   "source": [
    "print(\"XOR operatörü : \", op1 ^ op2)"
   ]
  },
  {
   "cell_type": "code",
   "execution_count": 25,
   "metadata": {},
   "outputs": [
    {
     "name": "stdout",
     "output_type": "stream",
     "text": [
      "NOT operatörü : ~ 3 -> -4\n",
      "NOT operatörü : ~ 5 -> -6\n"
     ]
    }
   ],
   "source": [
    "print(\"NOT operatörü : ~\",op1, \"->\", ~op1)\n",
    "print(\"NOT operatörü : ~\",op2, \"->\", ~op2)"
   ]
  },
  {
   "cell_type": "code",
   "execution_count": 26,
   "metadata": {},
   "outputs": [
    {
     "name": "stdout",
     "output_type": "stream",
     "text": [
      "Sola kaydırma operatörü :  12\n",
      "Sağa kaydırma operatörü :  1\n"
     ]
    }
   ],
   "source": [
    "print(\"Sola kaydırma operatörü : \" , op1<<2)\n",
    "print(\"Sağa kaydırma operatörü : \" , op2>>2)"
   ]
  }
 ],
 "metadata": {
  "kernelspec": {
   "display_name": "Python 3",
   "language": "python",
   "name": "python3"
  },
  "language_info": {
   "codemirror_mode": {
    "name": "ipython",
    "version": 3
   },
   "file_extension": ".py",
   "mimetype": "text/x-python",
   "name": "python",
   "nbconvert_exporter": "python",
   "pygments_lexer": "ipython3",
   "version": "3.6.1"
  }
 },
 "nbformat": 4,
 "nbformat_minor": 2
}
