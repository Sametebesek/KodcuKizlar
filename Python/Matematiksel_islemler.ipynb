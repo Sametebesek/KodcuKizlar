{
 "cells": [
  {
   "cell_type": "markdown",
   "metadata": {},
   "source": [
    "# Atama Operatörü "
   ]
  },
  {
   "cell_type": "code",
   "execution_count": 1,
   "metadata": {
    "collapsed": true
   },
   "outputs": [],
   "source": [
    "a = 10\n",
    "b = 5"
   ]
  },
  {
   "cell_type": "markdown",
   "metadata": {},
   "source": [
    "# Matematik Operatörleri"
   ]
  },
  {
   "cell_type": "code",
   "execution_count": 2,
   "metadata": {
    "collapsed": true
   },
   "outputs": [],
   "source": [
    "toplam = a + b\n",
    "cikar = a - b\n",
    "carp = a * b\n",
    "bol = a / b\n",
    "mod = a % b\n",
    "ondBol = a // b"
   ]
  },
  {
   "cell_type": "code",
   "execution_count": 3,
   "metadata": {},
   "outputs": [
    {
     "name": "stdout",
     "output_type": "stream",
     "text": [
      "a =  10  b =  5\n"
     ]
    }
   ],
   "source": [
    "print (\"a = \" , a, \" b = \", b)"
   ]
  },
  {
   "cell_type": "code",
   "execution_count": 4,
   "metadata": {},
   "outputs": [
    {
     "name": "stdout",
     "output_type": "stream",
     "text": [
      "Toplama İşlemi : \n",
      " 10  +  5  =  15\n",
      "Çıkarma İşlemi : \n",
      " 10  -  5  =  5\n",
      "Çarpma İşlemi : \n",
      " 10  *  5  =  50\n",
      "Bölme İşlemi : \n",
      " 10  /  5  =  2.0\n",
      "Mod İşlemi : \n",
      " 10  %  5  =  0\n",
      "Kalansız Bölme İşlemi : \n",
      " 10  //  5  =  2\n"
     ]
    }
   ],
   "source": [
    "print (\"Toplama İşlemi : \\n\",a , \" + \" , b , \" = \" , toplam)\n",
    "print (\"Çıkarma İşlemi : \\n\",a , \" - \" , b , \" = \" , cikar)\n",
    "print (\"Çarpma İşlemi : \\n\",a , \" * \" , b , \" = \" , carp)\n",
    "print (\"Bölme İşlemi : \\n\",a , \" / \" , b , \" = \" , bol)\n",
    "print (\"Mod İşlemi : \\n\",a, \" % \" , b , \" = \", mod)\n",
    "print (\"Kalansız Bölme İşlemi : \\n\",a , \" // \" , b , \" = \" , ondBol)"
   ]
  },
  {
   "cell_type": "code",
   "execution_count": 5,
   "metadata": {},
   "outputs": [
    {
     "name": "stdout",
     "output_type": "stream",
     "text": [
      "10  ve  5  sayısı birbirine eşit mi ? -->  False\n",
      "10  ve  5  sayısı birbirine eşit mi ? -->  True\n",
      "10 , 5 'den büyük bir sayı mı ? -->  True\n",
      "10 , 5 'den küçük bir sayı mı ? -->  False\n",
      "10 , 5 'den büyük veya eşit bir sayı mı ? -->  True\n",
      "10 , 5 'den küçük veya eşit bir sayı mı ? -->  False\n"
     ]
    }
   ],
   "source": [
    "print ( a, \" ve \" , b ,\" sayısı birbirine eşit mi ? --> \",a==b ) \n",
    "print ( a, \" ve \" , b ,\" sayısı birbirine eşit mi ? --> \",a!=b ) \n",
    "print ( a ,\",\", b ,\"'den büyük bir sayı mı ? --> \",a > b ) \n",
    "print ( a ,\",\", b ,\"'den küçük bir sayı mı ? --> \" , a < b ) \n",
    "print ( a ,\",\", b ,\"'den büyük veya eşit bir sayı mı ? --> \",a >= b ) \n",
    "print ( a ,\",\", b ,\"'den küçük veya eşit bir sayı mı ? --> \" ,a <= b ) "
   ]
  },
  {
   "cell_type": "markdown",
   "metadata": {
    "collapsed": true
   },
   "source": [
    "# Atama Operatörleri"
   ]
  },
  {
   "cell_type": "code",
   "execution_count": 6,
   "metadata": {
    "collapsed": true
   },
   "outputs": [],
   "source": [
    "a+=3"
   ]
  },
  {
   "cell_type": "code",
   "execution_count": 7,
   "metadata": {},
   "outputs": [
    {
     "name": "stdout",
     "output_type": "stream",
     "text": [
      "a = a + 3 ya da a+=3 -->  13\n"
     ]
    }
   ],
   "source": [
    "print(\"a = a + 3 ya da a+=3 --> \",a)"
   ]
  },
  {
   "cell_type": "code",
   "execution_count": 8,
   "metadata": {
    "collapsed": true
   },
   "outputs": [],
   "source": [
    "b-=1"
   ]
  },
  {
   "cell_type": "code",
   "execution_count": 9,
   "metadata": {},
   "outputs": [
    {
     "name": "stdout",
     "output_type": "stream",
     "text": [
      "b = b - 1 ya da b-=1 -->  4\n"
     ]
    }
   ],
   "source": [
    "print(\"b = b - 1 ya da b-=1 --> \",b)"
   ]
  },
  {
   "cell_type": "code",
   "execution_count": 10,
   "metadata": {
    "collapsed": true
   },
   "outputs": [],
   "source": [
    "a*=2"
   ]
  },
  {
   "cell_type": "code",
   "execution_count": 11,
   "metadata": {},
   "outputs": [
    {
     "name": "stdout",
     "output_type": "stream",
     "text": [
      "a = a * 2 ya da a*=2 -->  26\n"
     ]
    }
   ],
   "source": [
    "print(\"a = a * 2 ya da a*=2 --> \",a)"
   ]
  },
  {
   "cell_type": "code",
   "execution_count": 12,
   "metadata": {
    "collapsed": true
   },
   "outputs": [],
   "source": [
    "b/=2"
   ]
  },
  {
   "cell_type": "code",
   "execution_count": 13,
   "metadata": {},
   "outputs": [
    {
     "name": "stdout",
     "output_type": "stream",
     "text": [
      "b = b / 2 ya da b/=2 -->  2.0\n"
     ]
    }
   ],
   "source": [
    "print(\"b = b / 2 ya da b/=2 --> \",b)"
   ]
  },
  {
   "cell_type": "code",
   "execution_count": 14,
   "metadata": {
    "collapsed": true
   },
   "outputs": [],
   "source": [
    "a%=2"
   ]
  },
  {
   "cell_type": "code",
   "execution_count": 15,
   "metadata": {},
   "outputs": [
    {
     "name": "stdout",
     "output_type": "stream",
     "text": [
      "a = a % 2 ya da a%=2 -->  0\n"
     ]
    }
   ],
   "source": [
    "print(\"a = a % 2 ya da a%=2 --> \",a)"
   ]
  },
  {
   "cell_type": "code",
   "execution_count": 16,
   "metadata": {
    "collapsed": true
   },
   "outputs": [],
   "source": [
    "b**=4"
   ]
  },
  {
   "cell_type": "code",
   "execution_count": 17,
   "metadata": {},
   "outputs": [
    {
     "name": "stdout",
     "output_type": "stream",
     "text": [
      "b = b ** 4 ya da b**=4 -->  16.0\n"
     ]
    }
   ],
   "source": [
    "print(\"b = b ** 4 ya da b**=4 --> \",b)"
   ]
  },
  {
   "cell_type": "code",
   "execution_count": 18,
   "metadata": {
    "collapsed": true
   },
   "outputs": [],
   "source": [
    "b//=2"
   ]
  },
  {
   "cell_type": "code",
   "execution_count": 19,
   "metadata": {},
   "outputs": [
    {
     "name": "stdout",
     "output_type": "stream",
     "text": [
      "b = b // 2 ya da b//=2 -->  8.0\n"
     ]
    }
   ],
   "source": [
    "print(\"b = b // 2 ya da b//=2 --> \",b)"
   ]
  },
  {
   "cell_type": "markdown",
   "metadata": {},
   "source": [
    "# Bit Operatörleri"
   ]
  },
  {
   "cell_type": "markdown",
   "metadata": {},
   "source": [
    "Bit operatörleri kullanılırken, verilen sayı 2'lik sayı tabanında algılanır ve o şekilde işlemler uygulanır. Yani, biz bir değişkenimize 2, diğer değişkenimize 3 verdiğimizde ve de bu iki değişken arasında herhangi bir bit operatörü ile işlem yapacaksak bu operatör; değişkenlerin 2'lik tabanda karşılığı ile sonuca gidip, daha sonra tekrar bir sayı biçimine çevirip bize gönderiyor."
   ]
  },
  {
   "cell_type": "code",
   "execution_count": 20,
   "metadata": {
    "collapsed": true
   },
   "outputs": [],
   "source": [
    "op1 = 3 # 0011\n",
    "op2 = 5 # 0101"
   ]
  },
  {
   "cell_type": "markdown",
   "metadata": {},
   "source": [
    "op1 ve op2 adını verdiğimiz değişkenlere sırası ile 3 ve 5 değerlerini atadık fakat biz bu değişkenler üzerinde bit operatörleri ile işlem yapacağımız için anlaşılır olması adına yanlarına 2'lik tabanda karşılıklarını da yazdım."
   ]
  },
  {
   "cell_type": "markdown",
   "metadata": {},
   "source": [
    "Bir sonraki işlem AND operatörünün kullanılması. Bu operatörün nasıl çalıştığını size açıklamaya çalışalım. 3 sayısının 2'lik tabandaki karşılığı : 0011, 5 sayısının 2'lik tabandaki karşılığı : 0101. Bunları and operatörü ile işleme koyduğumuzda ifade şu şekilde oluyor ' 0011 & 0101 '  Operatörlerin nasıl çalıştığını anlamak için bir link bırakıyorum. incelerseniz faydalı olacaktır : https://www.elektrikport.com/teknik-kutuphane/lojik-devreler-(kapilar)-elektrikport-akademi/11519#ad-image-0"
   ]
  },
  {
   "cell_type": "markdown",
   "metadata": {},
   "source": [
    "    0 0 1 1\n",
    " _________\n",
    "    0 1 0 1\n",
    " &-_-_-_-_-_--_-_-_-_-_--_-_-_-_-_--_-_-_-_\n",
    "_________\n",
    "    0 0 0 1"
   ]
  },
  {
   "cell_type": "code",
   "execution_count": 21,
   "metadata": {},
   "outputs": [
    {
     "name": "stdout",
     "output_type": "stream",
     "text": [
      "AND operatörü :  1\n"
     ]
    }
   ],
   "source": [
    "print(\"AND operatörü : \" , op1 & op2)"
   ]
  },
  {
   "cell_type": "code",
   "execution_count": 22,
   "metadata": {},
   "outputs": [
    {
     "name": "stdout",
     "output_type": "stream",
     "text": [
      "OR operatörü :  7\n"
     ]
    }
   ],
   "source": [
    "print(\"OR operatörü : \" , op1 | op2)"
   ]
  },
  {
   "cell_type": "code",
   "execution_count": 23,
   "metadata": {},
   "outputs": [
    {
     "name": "stdout",
     "output_type": "stream",
     "text": [
      "XOR operatörü :  6\n"
     ]
    }
   ],
   "source": [
    "print(\"XOR operatörü : \", op1 ^ op2)"
   ]
  },
  {
   "cell_type": "code",
   "execution_count": 24,
   "metadata": {},
   "outputs": [
    {
     "name": "stdout",
     "output_type": "stream",
     "text": [
      "NOT operatörü : ~ 3 -> -4\n"
     ]
    }
   ],
   "source": [
    "print(\"NOT operatörü : ~\",op1, \"->\", ~op1)"
   ]
  },
  {
   "cell_type": "code",
   "execution_count": 25,
   "metadata": {},
   "outputs": [
    {
     "name": "stdout",
     "output_type": "stream",
     "text": [
      "NOT operatörü : ~ 5 -> -6\n"
     ]
    }
   ],
   "source": [
    "print(\"NOT operatörü : ~\",op2, \"->\", ~op2)"
   ]
  },
  {
   "cell_type": "markdown",
   "metadata": {},
   "source": [
    "3 sayısının bütün bitleri 2 hane sola kayıyor. Sağda boşalan haneler yerine 0 konuluyor.\n",
    "_______________________________________________________________________________________\n",
    "<- 0 <- 0 <- 1 <- 1\n",
    "______________________________________________________________________________________\n",
    "Bu haneleri 2 hane kadar sola kaydırıyoruz. Boş kalan yerleri ‘0’ ile dolduruyoruz.\n",
    "Yeni sayımız :  1100\n"
   ]
  },
  {
   "cell_type": "code",
   "execution_count": 26,
   "metadata": {},
   "outputs": [
    {
     "name": "stdout",
     "output_type": "stream",
     "text": [
      "Sola kaydırma operatörü :  12\n"
     ]
    }
   ],
   "source": [
    "print(\"Sola kaydırma operatörü : \" , op1<<2)"
   ]
  },
  {
   "cell_type": "markdown",
   "metadata": {},
   "source": [
    "5 sayısının bütün bitleri 2 hane sağa kayıyor. Solda boşalan haneler yerine 0 konuluyor.\n",
    "_______________________________________________________________________________________\n",
    "<- 0 <- 1 <- 0 <- 1\n",
    "________________________________________________________________________________________\n",
    "Bu haneleri 2 hane kadar sağa kaydırıyoruz. Boş kalan yerleri ‘0’ ile dolduruyoruz.\n",
    "Yeni Sayımız :  0001 \n"
   ]
  },
  {
   "cell_type": "code",
   "execution_count": 27,
   "metadata": {},
   "outputs": [
    {
     "name": "stdout",
     "output_type": "stream",
     "text": [
      "Sağa kaydırma operatörü :  1\n"
     ]
    }
   ],
   "source": [
    "print(\"Sağa kaydırma operatörü : \" , op2>>2)"
   ]
  }
 ],
 "metadata": {
  "kernelspec": {
   "display_name": "Python 3",
   "language": "python",
   "name": "python3"
  },
  "language_info": {
   "codemirror_mode": {
    "name": "ipython",
    "version": 3
   },
   "file_extension": ".py",
   "mimetype": "text/x-python",
   "name": "python",
   "nbconvert_exporter": "python",
   "pygments_lexer": "ipython3",
   "version": "3.6.1"
  }
 },
 "nbformat": 4,
 "nbformat_minor": 2
}
