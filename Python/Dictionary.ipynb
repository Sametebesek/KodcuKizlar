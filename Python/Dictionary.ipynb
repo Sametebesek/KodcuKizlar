{
 "cells": [
  {
   "cell_type": "markdown",
   "metadata": {},
   "source": [
    "Boş bir dictionary oluşturuyoruz."
   ]
  },
  {
   "cell_type": "code",
   "execution_count": 1,
   "metadata": {
    "collapsed": true
   },
   "outputs": [],
   "source": [
    "sozluk={}"
   ]
  },
  {
   "cell_type": "markdown",
   "metadata": {},
   "source": [
    "Dictionary içerisine anahtar-değer ikililerini ekliyoruz."
   ]
  },
  {
   "cell_type": "code",
   "execution_count": 2,
   "metadata": {
    "collapsed": false
   },
   "outputs": [],
   "source": [
    "sozluk ={\"İstanbul\" :34 , \"Bursa\":16 , \"Afyonkarahisar\": 3, \"Rize\":53}"
   ]
  },
  {
   "cell_type": "markdown",
   "metadata": {},
   "source": [
    "type(variable) : built-in fonksiyonudur. Yani Python içerisinde varolan bir fonksiyondur. \"sozluk\" değişkenimizin tipini görüyoruz."
   ]
  },
  {
   "cell_type": "code",
   "execution_count": 3,
   "metadata": {
    "collapsed": false
   },
   "outputs": [
    {
     "name": "stdout",
     "output_type": "stream",
     "text": [
      "<class 'dict'>\n"
     ]
    }
   ],
   "source": [
    "print(type(sozluk))"
   ]
  },
  {
   "cell_type": "markdown",
   "metadata": {},
   "source": [
    "Farklı türde değerler ekliyoruz. int,String,Liste türündeki değişkenleri birarada bulundurabildiğinden bahsetmiştik."
   ]
  },
  {
   "cell_type": "code",
   "execution_count": 4,
   "metadata": {
    "collapsed": true
   },
   "outputs": [],
   "source": [
    "sozluk[\"İzmir\"]=35"
   ]
  },
  {
   "cell_type": "code",
   "execution_count": 5,
   "metadata": {
    "collapsed": true
   },
   "outputs": [],
   "source": [
    "sozluk[\"Deger\"]=\"String değer de eklenebilir.\""
   ]
  },
  {
   "cell_type": "code",
   "execution_count": 6,
   "metadata": {
    "collapsed": true
   },
   "outputs": [],
   "source": [
    "sozluk[\"Liste\"]=[1,2,3,4,5]"
   ]
  },
  {
   "cell_type": "code",
   "execution_count": 7,
   "metadata": {
    "collapsed": true
   },
   "outputs": [],
   "source": [
    "sozluk[\"dict\"]={\"Adı\":\"Tuğba\",\"Soyadı\":\"Ay\",\"Mesleği\":\"Bilgisayar Mühendisliği\"}"
   ]
  },
  {
   "cell_type": "code",
   "execution_count": 8,
   "metadata": {
    "collapsed": false
   },
   "outputs": [
    {
     "name": "stdout",
     "output_type": "stream",
     "text": [
      "{'İstanbul': 34, 'Bursa': 16, 'Afyonkarahisar': 3, 'Rize': 53, 'İzmir': 35, 'Deger': 'String değer de eklenebilir.', 'Liste': [1, 2, 3, 4, 5], 'dict': {'Adı': 'Tuğba', 'Soyadı': 'Ay', 'Mesleği': 'Bilgisayar Mühendisliği'}}\n"
     ]
    }
   ],
   "source": [
    "print(sozluk)"
   ]
  },
  {
   "cell_type": "markdown",
   "metadata": {},
   "source": [
    "Yeniden bir built-in fonksiyon olan str() kullanıyoruz."
   ]
  },
  {
   "cell_type": "code",
   "execution_count": 9,
   "metadata": {
    "collapsed": false
   },
   "outputs": [
    {
     "data": {
      "text/plain": [
       "\"{'İstanbul': 34, 'Bursa': 16, 'Afyonkarahisar': 3, 'Rize': 53, 'İzmir': 35, 'Deger': 'String değer de eklenebilir.', 'Liste': [1, 2, 3, 4, 5], 'dict': {'Adı': 'Tuğba', 'Soyadı': 'Ay', 'Mesleği': 'Bilgisayar Mühendisliği'}}\""
      ]
     },
     "execution_count": 9,
     "metadata": {},
     "output_type": "execute_result"
    }
   ],
   "source": [
    "str(sozluk)"
   ]
  },
  {
   "cell_type": "markdown",
   "metadata": {},
   "source": [
    "Dictionary içerisindeki anahtarlarımızı döndürür."
   ]
  },
  {
   "cell_type": "code",
   "execution_count": 10,
   "metadata": {
    "collapsed": false
   },
   "outputs": [
    {
     "name": "stdout",
     "output_type": "stream",
     "text": [
      "dict_keys(['İstanbul', 'Bursa', 'Afyonkarahisar', 'Rize', 'İzmir', 'Deger', 'Liste', 'dict'])\n"
     ]
    }
   ],
   "source": [
    "print(sozluk.keys())"
   ]
  },
  {
   "cell_type": "markdown",
   "metadata": {},
   "source": [
    "Dictionary içerisindeki değerleri döndürür."
   ]
  },
  {
   "cell_type": "code",
   "execution_count": 11,
   "metadata": {
    "collapsed": false
   },
   "outputs": [
    {
     "name": "stdout",
     "output_type": "stream",
     "text": [
      "dict_values([34, 16, 3, 53, 35, 'String değer de eklenebilir.', [1, 2, 3, 4, 5], {'Adı': 'Tuğba', 'Soyadı': 'Ay', 'Mesleği': 'Bilgisayar Mühendisliği'}])\n"
     ]
    }
   ],
   "source": [
    "print(sozluk.values())"
   ]
  },
  {
   "cell_type": "markdown",
   "metadata": {},
   "source": [
    "Dictionary eleman uzunluğunu döndürür."
   ]
  },
  {
   "cell_type": "code",
   "execution_count": 12,
   "metadata": {
    "collapsed": false
   },
   "outputs": [
    {
     "data": {
      "text/plain": [
       "8"
      ]
     },
     "execution_count": 12,
     "metadata": {},
     "output_type": "execute_result"
    }
   ],
   "source": [
    "len(sozluk)"
   ]
  },
  {
   "cell_type": "markdown",
   "metadata": {},
   "source": [
    "dictionary içerisinde yazılan anahtar ve ona karşılık gelen değer ya da değerleri siler."
   ]
  },
  {
   "cell_type": "code",
   "execution_count": 13,
   "metadata": {
    "collapsed": false
   },
   "outputs": [],
   "source": [
    "del sozluk['Liste']"
   ]
  },
  {
   "cell_type": "markdown",
   "metadata": {},
   "source": [
    "dictionart içerisindeki anahtarları list türüne çevrilmesini sağlar."
   ]
  },
  {
   "cell_type": "code",
   "execution_count": 14,
   "metadata": {
    "collapsed": false
   },
   "outputs": [
    {
     "name": "stdout",
     "output_type": "stream",
     "text": [
      "['İstanbul', 'Bursa', 'Afyonkarahisar', 'Rize', 'İzmir', 'Deger', 'dict']\n"
     ]
    }
   ],
   "source": [
    "l = list(sozluk.keys())\n",
    "\n",
    "print(l)"
   ]
  },
  {
   "cell_type": "code",
   "execution_count": 15,
   "metadata": {
    "collapsed": false
   },
   "outputs": [
    {
     "name": "stdout",
     "output_type": "stream",
     "text": [
      "['Afyonkarahisar', 'Bursa', 'Deger', 'Rize', 'dict', 'İstanbul', 'İzmir']\n"
     ]
    }
   ],
   "source": [
    "# If you want it sorted, just use sorted(d.keys()) instead\n",
    "l = sorted(sozluk.keys())\n",
    "\n",
    "print(l)"
   ]
  },
  {
   "cell_type": "code",
   "execution_count": 16,
   "metadata": {
    "collapsed": false
   },
   "outputs": [
    {
     "name": "stdout",
     "output_type": "stream",
     "text": [
      "True\n"
     ]
    }
   ],
   "source": [
    "# if sorgusunun print içerisinde yapılmış diğer bir türü.\n",
    "print('Afyonkarahisar' in sozluk)"
   ]
  },
  {
   "cell_type": "code",
   "execution_count": null,
   "metadata": {
    "collapsed": false
   },
   "outputs": [],
   "source": [
    "for item in sozluk:\n",
    "    if \"a\" in sozluk:\n",
    "        print(\"Key found\")\n",
    "    else:\n",
    "        print(\"No keys found\")"
   ]
  },
  {
   "cell_type": "code",
   "execution_count": 17,
   "metadata": {
    "collapsed": false
   },
   "outputs": [
    {
     "name": "stdout",
     "output_type": "stream",
     "text": [
      "İstanbul => 34\n",
      "Bursa => 16\n",
      "Afyonkarahisar => 3\n",
      "Rize => 53\n",
      "İzmir => 35\n",
      "Deger => String değer de eklenebilir.\n",
      "dict => {'Adı': 'Tuğba', 'Soyadı': 'Ay', 'Mesleği': 'Bilgisayar Mühendisliği'}\n"
     ]
    }
   ],
   "source": [
    "for key,val in sozluk.items():\n",
    "    print(key, \"=>\", val)"
   ]
  },
  {
   "cell_type": "code",
   "execution_count": 18,
   "metadata": {
    "collapsed": false
   },
   "outputs": [
    {
     "name": "stdout",
     "output_type": "stream",
     "text": [
      "Values:\n",
      "34\n",
      "16\n",
      "3\n",
      "53\n",
      "35\n",
      "String değer de eklenebilir.\n",
      "{'Adı': 'Tuğba', 'Soyadı': 'Ay', 'Mesleği': 'Bilgisayar Mühendisliği'}\n"
     ]
    }
   ],
   "source": [
    "print(\"Values:\")\n",
    "for values in sozluk:\n",
    "    releases= sozluk[values]\n",
    "    print (releases)"
   ]
  },
  {
   "cell_type": "code",
   "execution_count": 19,
   "metadata": {
    "collapsed": false
   },
   "outputs": [
    {
     "name": "stdout",
     "output_type": "stream",
     "text": [
      "{'İstanbul': 1, 'Bursa': 1, 'Afyonkarahisar': 1, 'Rize': 1, 'İzmir': 1, 'Deger': 1, 'dict': 1}\n"
     ]
    }
   ],
   "source": [
    "count = {}\n",
    "for element in sozluk:\n",
    "    count[element] = count.get(element, 0) + 1\n",
    "print(count)"
   ]
  },
  {
   "cell_type": "code",
   "execution_count": 20,
   "metadata": {
    "collapsed": false
   },
   "outputs": [
    {
     "name": "stdout",
     "output_type": "stream",
     "text": [
      "dict1: {'one': 1, 'two': 2, 'three': 3, 'four': 4, 'five': 5}\n"
     ]
    }
   ],
   "source": [
    "dict1=  {'one':1,'two':2,'three':3}\n",
    "dict2=  {'four': 4,  'five':5}\n",
    "dict1.update(dict2)\n",
    "print('dict1:',  dict1)"
   ]
  }
 ],
 "metadata": {
  "kernelspec": {
   "display_name": "Python 3",
   "language": "python",
   "name": "python3"
  },
  "language_info": {
   "codemirror_mode": {
    "name": "ipython",
    "version": 3
   },
   "file_extension": ".py",
   "mimetype": "text/x-python",
   "name": "python",
   "nbconvert_exporter": "python",
   "pygments_lexer": "ipython3",
   "version": "3.6.0"
  }
 },
 "nbformat": 4,
 "nbformat_minor": 2
}
